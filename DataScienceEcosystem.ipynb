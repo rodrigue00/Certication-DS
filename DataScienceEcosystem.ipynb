{
 "cells": [
  {
   "cell_type": "markdown",
   "id": "66817ad4-5349-4b99-88cd-5ca563c10935",
   "metadata": {},
   "source": [
    "# Data Science Tools and Ecosystem"
   ]
  },
  {
   "cell_type": "markdown",
   "id": "2313af5c-f0cc-436a-af3e-a9706ce8c191",
   "metadata": {},
   "source": [
    "In this notebook, Data Science Tools and Ecosystem are summarized."
   ]
  },
  {
   "cell_type": "markdown",
   "id": "9ebc367d-2216-4bc4-8aa2-840423d3348d",
   "metadata": {},
   "source": [
    "1. Python\n",
    "2. R\n",
    "3. SQL\n",
    "4. Julia"
   ]
  },
  {
   "cell_type": "markdown",
   "id": "b921cabd-a354-4fba-a738-cf8ac05ebcdd",
   "metadata": {},
   "source": [
    "Some of the commonly used libraries used by Data Scientists include:\n",
    "1. Pandas\n",
    "2. NumPy\n",
    "3. Scikit-learn\n",
    "4. Matplotlib"
   ]
  },
  {
   "cell_type": "markdown",
   "id": "882ccee0-39a7-4825-a897-a1e84e893733",
   "metadata": {},
   "source": [
    "| Data Science Tools |\n",
    "|--------------------|\n",
    "| Jupyter Notebook   |\n",
    "| RStudio            |\n",
    "| Apache Zeppelin    |\n",
    " "
   ]
  },
  {
   "cell_type": "markdown",
   "id": "ef4c7d2a-a069-4f62-8d11-9f631fcd0125",
   "metadata": {},
   "source": [
    "### Below are a few examples of evaluating arithmetic expressions in Python."
   ]
  },
  {
   "cell_type": "code",
   "execution_count": 3,
   "id": "718b5dc8-bcd8-4d3e-8b70-113840fc5cdf",
   "metadata": {},
   "outputs": [
    {
     "data": {
      "text/plain": [
       "17"
      ]
     },
     "execution_count": 3,
     "metadata": {},
     "output_type": "execute_result"
    }
   ],
   "source": [
    "# This is a simple arithmetic expression to multiply then add integers.\n",
    "(3 * 4) + 5"
   ]
  },
  {
   "cell_type": "code",
   "execution_count": 4,
   "id": "fb911b16-0d5e-44a7-9219-d17607802686",
   "metadata": {},
   "outputs": [
    {
     "data": {
      "text/plain": [
       "3.3333333333333335"
      ]
     },
     "execution_count": 4,
     "metadata": {},
     "output_type": "execute_result"
    }
   ],
   "source": [
    "# This will convert 200 minutes to hours by dividing by 60.\n",
    "200 / 60"
   ]
  },
  {
   "cell_type": "markdown",
   "id": "f0515d83-65b9-4cd1-b8d9-f420254cc184",
   "metadata": {},
   "source": [
    "**Objectives:**\n",
    "\n",
    "This notebook covered the following key takeaways:\n",
    "\n",
    "* List popular languages for Data Science.\n",
    "* List commonly used libraries for Data Science.\n",
    "* Identify popular Data Science tools.\n",
    "* Demonstrate evaluation of arithmetic expressions in Python.\n",
    "* Convert units using a code cell."
   ]
  },
  {
   "cell_type": "markdown",
   "id": "1f8e4c1d-d576-423e-ada0-c23ce8bba482",
   "metadata": {},
   "source": [
    "## Author\n",
    "[Your Name Here]"
   ]
  },
  {
   "cell_type": "code",
   "execution_count": null,
   "id": "7ede876f-cdc5-4114-b4aa-85f18b15c2c5",
   "metadata": {},
   "outputs": [],
   "source": []
  }
 ],
 "metadata": {
  "kernelspec": {
   "display_name": "Python 3 (ipykernel)",
   "language": "python",
   "name": "python3"
  },
  "language_info": {
   "codemirror_mode": {
    "name": "ipython",
    "version": 3
   },
   "file_extension": ".py",
   "mimetype": "text/x-python",
   "name": "python",
   "nbconvert_exporter": "python",
   "pygments_lexer": "ipython3",
   "version": "3.12.8"
  }
 },
 "nbformat": 4,
 "nbformat_minor": 5
}
